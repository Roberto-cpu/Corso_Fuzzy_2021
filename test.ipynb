{
  "nbformat": 4,
  "nbformat_minor": 0,
  "metadata": {
    "colab": {
      "name": "test.ipynb",
      "provenance": [],
      "authorship_tag": "ABX9TyPLTF/MLr14SbX85pXM3+9g",
      "include_colab_link": true
    },
    "kernelspec": {
      "name": "python3",
      "display_name": "Python 3"
    }
  },
  "cells": [
    {
      "cell_type": "markdown",
      "metadata": {
        "id": "view-in-github",
        "colab_type": "text"
      },
      "source": [
        "<a href=\"https://colab.research.google.com/github/Roberto-cpu/Corso_Fuzzy_2021/blob/main/test.ipynb\" target=\"_parent\"><img src=\"https://colab.research.google.com/assets/colab-badge.svg\" alt=\"Open In Colab\"/></a>"
      ]
    },
    {
      "cell_type": "code",
      "metadata": {
        "id": "whxPZqoM4d32"
      },
      "source": [
        "def and_agent(op1, op2):\n",
        "  return op1 and op2\n",
        "\n",
        "def or_agent(op1, op2):\n",
        "  return op1 or op2\n",
        "\n",
        "def implication_agent(ipotesi, tesi):\n",
        "    return int(not ipotesi or tesi)\n",
        "\n",
        "def xor_agent(var1, var2):\n",
        "    return int((not var1 and var2) or (var1 and not var2))\n",
        "\n",
        "def not_agent(op):\n",
        "  return int(not op)"
      ],
      "execution_count": 34,
      "outputs": []
    },
    {
      "cell_type": "code",
      "metadata": {
        "id": "k6zl0ruM4wV-"
      },
      "source": [
        "def stampa_tabella(formula):\n",
        "    valori_possibili = (0, 1)\n",
        "\n",
        "    if formula == \"not_agent\":\n",
        "      print(\"A | not A\")\n",
        "      for A in valori_possibili:\n",
        "        print(f'{A} |   {eval(formula+\"(A)\")}')\n",
        "    elif formula == \"and_agent\" or formula == \"or_agent\" or formula == \"implication_agent\" or formula == \"xor_agent\":\n",
        "      simbol = \"\"\n",
        "      if formula == \"and_agent\":\n",
        "        symbol = \"and\"\n",
        "      elif formula == \"or_agent\":\n",
        "        symbol = \"or\"\n",
        "      elif formula == \"implication_agent\":\n",
        "        symbol = \"->\"\n",
        "      elif formula == \"xor_agent\":\n",
        "        symbol = \"xor\"\n",
        "\n",
        "      print(f'A | B | A {symbol} B')\n",
        "      for A in valori_possibili:\n",
        "          for B in valori_possibili:\n",
        "              print(f'{A} | {B} |   {eval(formula+\"(A, B)\")}')\n",
        "    else:\n",
        "       print(\"Operatore non riconosciuto\")\n",
        "       main()     "
      ],
      "execution_count": 44,
      "outputs": []
    },
    {
      "cell_type": "code",
      "metadata": {
        "id": "dlJqhAfK52kB"
      },
      "source": [
        "def main():\n",
        "  agent = input(\"Inserisci l'operazione da effettuare (and, or, not, implication, xor): \")\n",
        "  stampa_tabella(agent+\"_agent\")"
      ],
      "execution_count": 28,
      "outputs": []
    },
    {
      "cell_type": "code",
      "metadata": {
        "colab": {
          "base_uri": "https://localhost:8080/"
        },
        "id": "NX2yxDnz6Lbg",
        "outputId": "b7601c99-e5fb-4b93-ecf1-34251aa52aa5"
      },
      "source": [
        "main()"
      ],
      "execution_count": 45,
      "outputs": [
        {
          "output_type": "stream",
          "text": [
            "Inserisci l'operazione da effettuare (and, or, not, implication, xor): ciao\n",
            "Operatore non riconosciuto\n",
            "Inserisci l'operazione da effettuare (and, or, not, implication, xor): ciao\n",
            "Operatore non riconosciuto\n",
            "Inserisci l'operazione da effettuare (and, or, not, implication, xor): and\n",
            "A | B | A and B\n",
            "0 | 0 |   0\n",
            "0 | 1 |   0\n",
            "1 | 0 |   0\n",
            "1 | 1 |   1\n"
          ],
          "name": "stdout"
        }
      ]
    }
  ]
}