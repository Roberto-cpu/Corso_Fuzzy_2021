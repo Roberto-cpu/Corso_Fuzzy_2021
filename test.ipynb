{
  "nbformat": 4,
  "nbformat_minor": 0,
  "metadata": {
    "colab": {
      "name": "test.ipynb",
      "provenance": [],
      "authorship_tag": "ABX9TyOf4lBkH+Cg26bBqz+AM3QT",
      "include_colab_link": true
    },
    "kernelspec": {
      "name": "python3",
      "display_name": "Python 3"
    }
  },
  "cells": [
    {
      "cell_type": "markdown",
      "metadata": {
        "id": "view-in-github",
        "colab_type": "text"
      },
      "source": [
        "<a href=\"https://colab.research.google.com/github/Roberto-cpu/Corso_Fuzzy_2021/blob/main/test.ipynb\" target=\"_parent\"><img src=\"https://colab.research.google.com/assets/colab-badge.svg\" alt=\"Open In Colab\"/></a>"
      ]
    },
    {
      "cell_type": "markdown",
      "metadata": {
        "id": "zUq8byTzWztl"
      },
      "source": [
        "\n",
        "# ***Cos'è la logica?***\n",
        "## Introduzione alla logica\n",
        "<br>\n",
        "La logica può essere definita come lo studio del ragionamento e dell'argomentazione, capace di definire la correttezza dei procedimenti del pensiero.<br>\n",
        "Il termine \"Logica\" nasce nella filosofia antica, successiva alla dottrina aristotelica, prendendo il significato di: \"ciò che concerne la ragione\".<br>\n",
        "Durante questo corso è stato possibile analizzare due differenti tipologie di logica: logica classica e logica polivalente.<br>\n",
        "Entrambe le tipologie di logica basano la correttezza del ragionamento sul valore restituito da specifici operatori, detti operatori logici.\n",
        "Differenza sostanziale tra le due logiche è il grado di verità considerato:\n",
        "\n",
        "*   la logica classica si basa sulla concezione di due possibili gradi di verità: Vero e Falso;\n",
        "*   la logica polivalente si basa sulla concezione di diversi gradi di verità, superiori ai canonici Vero/Falso.<br>\n",
        "Per tale concezione è possibile vedere la logica polivalente come un'estensione della logica classica.<br>\n",
        "Alla logica polivalente appartiene la logica Fuzzy (o logica sfumata), con la quale è possibile definire un grado di verità che si iterpone tra Vero e Falso.\n",
        "![Schermata 2021-02-20 alle 18.14.04.png](data:image/png;base64,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)\n",
        "\n",
        "## Implementazione degli operatori logici\n",
        "<br>\n",
        "In questa prima fase si andranno ad implementare alcuni operatori logici: and, or, not, implicazione, equivalenza e xor.<br>\n",
        "Verranno applicate la logica di Boole e la logica di Lukasiewicz.<br>\n",
        "I valori di verità (True e False) verranno rappresentanti dai valori binari 1 (True) e 0 (False).\n",
        "\n",
        "Nell'AND, a differenza degli altri operandi, non viene richiesta la logica da applicare, in quanto l'operazione effettuata resta invariata."
      ]
    },
    {
      "cell_type": "code",
      "metadata": {
        "id": "whxPZqoM4d32"
      },
      "source": [
        "# This method return's the AND operation between two values\n",
        "def and_agent(op1, op2):\n",
        "  return int(not(not op1 or not op2))\n",
        "\n",
        "# This method return's the OR operation between two values\n",
        "def or_agent(op1, op2, logic):\n",
        "  if logic == \"Boole\":\n",
        "    return op1 or op2\n",
        "  else:\n",
        "    return max(op1, op2)\n",
        "\n",
        "# This method return's the IMPLCATION operation between two values\n",
        "def implication_agent(hypotesis, thesis, logic):\n",
        "    if logic == \"Boole\":\n",
        "      return int(not hypotesis or thesis)\n",
        "    else:\n",
        "      return min(1, 1 - hypotesis + thesis)\n",
        "\n",
        "# This method return's the XOR operation between two values\n",
        "def xor_agent(op1, op2, logic):\n",
        "  if logic == \"Boole\":\n",
        "    return int((not op1 and op2) or (op1 and not op2))\n",
        "  else:\n",
        "    return abs(op1 - op2)\n",
        "\n",
        "# This method return's the NOT operation of a operator\n",
        "def not_agent(op, logic):\n",
        "  if logic == \"Boole\":\n",
        "    return int(not op)\n",
        "  else:\n",
        "    return (1 - op)\n",
        "\n",
        "# This method return's the Equivalence operation's result between two values\n",
        "def equivalence_agent(op1, op2, logic):\n",
        "  if logic == \"Boole\":\n",
        "    return int(not ((not op1 and op2) or (op1 and not op2)))\n",
        "  else:\n",
        "    return (1 - abs(op1 - op2))"
      ],
      "execution_count": 8,
      "outputs": []
    },
    {
      "cell_type": "code",
      "metadata": {
        "id": "6zLFX89TDbL0"
      },
      "source": [
        "# This method returns the agent's symbol\n",
        "def symbol(agent):\n",
        "  if agent == \"and_agent\":\n",
        "    return \"and\"\n",
        "  elif agent == \"or_agent\":\n",
        "    return \"or\"\n",
        "  elif agent == \"implication_agent\":\n",
        "    return \"->\"\n",
        "  elif agent == \"xor_agent\":\n",
        "    return \"xor\"\n",
        "  else:\n",
        "    return \"<=>\""
      ],
      "execution_count": null,
      "outputs": []
    },
    {
      "cell_type": "code",
      "metadata": {
        "id": "k6zl0ruM4wV-"
      },
      "source": [
        "# This method prints a truth table for the chosen operation and logic\n",
        "def print_table(function):\n",
        "    possible_values = (0, 1)\n",
        "\n",
        "    logics = (\"Boole\", \"Lukasiewicz\")\n",
        "    agents = (\"and_agent\", \"or_agent\", \"not_agent\", \"implication_agent\", \"xor_agent\", \"equivalence_agent\")\n",
        "\n",
        "    # If the agent is not recognized, it must be enter it again\n",
        "    while function not in agents:\n",
        "      function = input(\"Operazione non rinconosciuta!\\nInserisci l'operazione da effettuare (and, or, not, implication, xor, equivalence): \")   \n",
        "      function += \"_agent\"\n",
        "\n",
        "    # --- There are two versions of the print function because the NOT agent needs only one operand --- \n",
        "\n",
        "    if function == \"not_agent\":\n",
        "      logic = input(\"Definisci la logica da applicare (Boole, Lukasiewicz): \")\n",
        "      # If the logic is not recognized, it must be enter it again\n",
        "      while logic.capitalize() not in logics:\n",
        "        logic = input(\"La logica richiesta non è riconosciuta!\\nDefinisci la logica da applicare (Boole, Lukasiewicz): \")\n",
        "      print(\"A | not A\")\n",
        "      for A in possible_values:\n",
        "        print(f'{A} |   {eval(function+\"(A, logic)\")}')\n",
        "\n",
        "    else:\n",
        "      if function == \"and_agent\":\n",
        "        print(f'A | B | A {symbol(function)} B')\n",
        "        for A in possible_values:\n",
        "            for B in possible_values:\n",
        "                print(f'{A} | {B} |   {eval(function+\"(A, B)\")}')\n",
        "      else:\n",
        "        logic = input(\"Definisci la logica da applicare (Boole, Lukasiewicz): \")\n",
        "        # If the logic is not recognized, it must be enter it again\n",
        "        while logic.capitalize() not in logics:\n",
        "          logic = input(\"La logica richiesta non è riconosciuta!\\nDefinisci la logica da applicare (Boole, Lukasiewicz): \")\n",
        "        print(f'A | B | A {symbol(function)} B')\n",
        "        for A in possible_values:\n",
        "            for B in possible_values:\n",
        "                print(f'{A} | {B} |   {eval(function+\"(A, B, logic)\")}')     "
      ],
      "execution_count": null,
      "outputs": []
    },
    {
      "cell_type": "code",
      "metadata": {
        "id": "dlJqhAfK52kB"
      },
      "source": [
        "def main():\n",
        "  execute = \"si\"\n",
        "  while execute == \"si\":\n",
        "    agent = input(\"Inserisci l'operazione da effettuare (and, or, not, implication, xor, equivalence): \")\n",
        "    print_table(agent+\"_agent\")\n",
        "    execute = input(\"Vuoi eseguire una nuova operazione (si/no)? \")\n",
        "  \n",
        "  print(\"Esecuzione terminata!\\nArrivederci.\")"
      ],
      "execution_count": null,
      "outputs": []
    },
    {
      "cell_type": "code",
      "metadata": {
        "colab": {
          "base_uri": "https://localhost:8080/"
        },
        "id": "NX2yxDnz6Lbg",
        "outputId": "1c35ba74-6e74-45da-c45d-d2ad951fbbd5"
      },
      "source": [
        "main()"
      ],
      "execution_count": null,
      "outputs": [
        {
          "output_type": "stream",
          "text": [
            "Inserisci l'operazione da effettuare (and, or, not, implication, xor, equivalence): and\n",
            "A | B | A and B\n",
            "0 | 0 |   0\n",
            "0 | 1 |   0\n",
            "1 | 0 |   0\n",
            "1 | 1 |   1\n",
            "Vuoi eseguire una nuova operazione (si/no)? si\n",
            "Inserisci l'operazione da effettuare (and, or, not, implication, xor, equivalence): not\n",
            "Definisci la logica da applicare (Boole, Lukasiewicz): Bool\n",
            "La logica richiesta non è riconosciuta!\n",
            "Definisci la logica da applicare (Boole, Lukasiewicz): Boole\n",
            "A | not A\n",
            "0 |   1\n",
            "1 |   0\n",
            "Vuoi eseguire una nuova operazione (si/no)? si\n",
            "Inserisci l'operazione da effettuare (and, or, not, implication, xor, equivalence): implication\n",
            "Definisci la logica da applicare (Boole, Lukasiewicz): Lukasiewicz\n",
            "A | B | A -> B\n",
            "0 | 0 |   1\n",
            "0 | 1 |   1\n",
            "1 | 0 |   0\n",
            "1 | 1 |   1\n",
            "Vuoi eseguire una nuova operazione (si/no)? si\n",
            "Inserisci l'operazione da effettuare (and, or, not, implication, xor, equivalence): or\n",
            "Definisci la logica da applicare (Boole, Lukasiewicz): Boole\n",
            "A | B | A or B\n",
            "0 | 0 |   0\n",
            "0 | 1 |   1\n",
            "1 | 0 |   1\n",
            "1 | 1 |   1\n",
            "Vuoi eseguire una nuova operazione (si/no)? si\n",
            "Inserisci l'operazione da effettuare (and, or, not, implication, xor, equivalence): xore\n",
            "Operazione non rinconosciuta!\n",
            "Inserisci l'operazione da effettuare (and, or, not, implication, xor, equivalence): xor\n",
            "Definisci la logica da applicare (Boole, Lukasiewicz): Lukasiewicz\n",
            "A | B | A xor B\n",
            "0 | 0 |   0\n",
            "0 | 1 |   1\n",
            "1 | 0 |   1\n",
            "1 | 1 |   0\n",
            "Vuoi eseguire una nuova operazione (si/no)? no\n",
            "Esecuzione terminata!\n",
            "Arrivederci.\n"
          ],
          "name": "stdout"
        }
      ]
    },
    {
      "cell_type": "markdown",
      "metadata": {
        "id": "NbbUSHA98rCX"
      },
      "source": [
        "In questo esercizio verranno definite le funzioni utili al calcolo della logia trivalente. Tale logica impone l'uso di tre valori di verità (Vero, Non definito, Falso), i quali verrano tradotti nei valori 1 (Vero), 0 (Non definito) e -1 (Falso)."
      ]
    },
    {
      "cell_type": "code",
      "metadata": {
        "id": "9lq4z5jT8sLn"
      },
      "source": [
        "def and_three_values(op1, op2):\n",
        "    return min(op1, op2)\n",
        "  \n",
        "def or_three_values(op1, op2):\n",
        "  return max(op1, op2)\n",
        "\n",
        "def not_three_values(op1):\n",
        "  if op1 == 1:\n",
        "    return -1\n",
        "  elif op1 == -1:\n",
        "    return 1\n",
        "  \n",
        "def implication_three_values(op1, op2):\n",
        "  if op1 == op2:\n",
        "    if op1 == 1 or op1 == -1:\n",
        "      return 1\n",
        "    elif op1 == 0:\n",
        "      return 0\n",
        "  elif op1 > op2:\n",
        "    if op1 == 1:\n",
        "      return min(op1, op2)\n",
        "    elif op1 == 0:\n",
        "      return 0\n",
        "  elif op2 > op1:\n",
        "    return 1"
      ],
      "execution_count": 5,
      "outputs": []
    },
    {
      "cell_type": "code",
      "metadata": {
        "id": "oz3M13HYLk1I"
      },
      "source": [
        "def chooseSymbol(agent):\n",
        "  if agent.startswith(\"and\"):\n",
        "    return \"and\"\n",
        "  elif agent.startswith(\"or\"):\n",
        "    return \"or\"\n",
        "  else:\n",
        "    return \"->\""
      ],
      "execution_count": 6,
      "outputs": []
    },
    {
      "cell_type": "code",
      "metadata": {
        "id": "w2TCiLtgJCtJ"
      },
      "source": [
        "def print_table_three_values(logic):\n",
        "  possible_values = (1, 0, -1)\n",
        "  \n",
        "  boole_op = (\"and\", \"or\", \"not\")\n",
        "  lukasiewicz_op = (\"implication\", \"equivalence\")\n",
        "\n",
        "  if logic == \"Boole\":\n",
        "    agent = input(\"Quale operazione vuoi fare (and, or, not)? \")\n",
        "    while agent not in boole_op:\n",
        "      agent = input(\"Quale operazione vuoi fare (and, or, not)? \")\n",
        "    agent += \"_three_values\"\n",
        "  else:\n",
        "    agent = \"implication_three_values\"\n",
        "\n",
        "  print(agent)\n",
        "\n",
        "  if agent == \"not_three_values\":\n",
        "    print(\"A | not A\")\n",
        "    for A in possible_values:\n",
        "      print(f'{A} | {eval(agent+\"(A)\")}')\n",
        "  else:\n",
        "    print (f'A  | B  | A {chooseSymbol(agent)} B')\n",
        "    for A in possible_values:\n",
        "      for B in possible_values:\n",
        "        print(f'{A}  | {B}  | {eval(agent+\"(A, B)\")}')\n"
      ],
      "execution_count": 7,
      "outputs": []
    },
    {
      "cell_type": "code",
      "metadata": {
        "id": "fss43XrSMYPr"
      },
      "source": [
        "def main():\n",
        "  choose = \"si\"\n",
        "  logics = (\"Boole\", \"Lukasiewicz\")\n",
        "  options = (\"si\", \"no\")\n",
        "\n",
        "  while choose == \"si\":\n",
        "    logic = input(\"Quale logica vuoi applicare (Boole, Lukasiewicz)? \")\n",
        "    while logic not in logics:\n",
        "      logic = input(\"Quale logica vuoi applicare (Boole, Lukasiewicz)? \")\n",
        "    print_table_three_values(logic)\n",
        "    choose = input(\"Vuoi effettuare un'altra operazione (si/no)? \")\n",
        "    while choose not in options:\n",
        "      choose = input(\"Vuoi effettuare un'altra operazione (si/no)? \")\n",
        "\n",
        "  print(\"Arrivederci!\")"
      ],
      "execution_count": 10,
      "outputs": []
    },
    {
      "cell_type": "code",
      "metadata": {
        "colab": {
          "base_uri": "https://localhost:8080/"
        },
        "id": "_SJREvaENV68",
        "outputId": "b0b7fc10-e566-4f6c-f3fc-aa7705b830bb"
      },
      "source": [
        "main()"
      ],
      "execution_count": 9,
      "outputs": [
        {
          "output_type": "stream",
          "text": [
            "Quale logica vuoi applicare (Boole, Lukasiewicz)? Lukasiewicz\n",
            "implication_three_values\n",
            "A  | B  | A -> B\n",
            "1  | 1  | 1\n",
            "1  | 0  | 0\n",
            "1  | -1  | -1\n",
            "0  | 1  | 1\n",
            "0  | 0  | 0\n",
            "0  | -1  | 0\n",
            "-1  | 1  | 1\n",
            "-1  | 0  | 1\n",
            "-1  | -1  | 1\n",
            "Vuoi effettuare un'altra operazione (si/no)? si\n",
            "Quale logica vuoi applicare (Boole, Lukasiewicz)? Boole\n",
            "Quale operazione vuoi fare (and, or, not)? or\n",
            "or_three_values\n",
            "A  | B  | A or B\n",
            "1  | 1  | 1\n",
            "1  | 0  | 1\n",
            "1  | -1  | 1\n",
            "0  | 1  | 1\n",
            "0  | 0  | 0\n",
            "0  | -1  | 0\n",
            "-1  | 1  | 1\n",
            "-1  | 0  | 0\n",
            "-1  | -1  | -1\n",
            "Vuoi effettuare un'altra operazione (si/no)? no\n",
            "Arrivederci!\n"
          ],
          "name": "stdout"
        }
      ]
    },
    {
      "cell_type": "markdown",
      "metadata": {
        "id": "gi0_YZDr8vvb"
      },
      "source": [
        "In questo esercizio si vuole sviluppare l'operazione not A or not A.<br>\n",
        "Per far ciò si eseguirà un ciclo for sulla sola variabile A per i possibili valori che questa può assumere (0 e 1).<br>\n",
        "Risultato di questo snippet sarà la stampa della tabella di verità contente i valori assunto dalla variabile A, dalla sua negazione (not A) ed il risultato dell'OR."
      ]
    },
    {
      "cell_type": "code",
      "metadata": {
        "colab": {
          "base_uri": "https://localhost:8080/"
        },
        "id": "k1JPSViS8u6H",
        "outputId": "83cf9bf3-aee0-46ce-932b-dd077e0df290"
      },
      "source": [
        "import matplotlib.pyplot as plt\n",
        "\n",
        "def main():\n",
        "  possible_values = (0, 1)\n",
        "  print('A | not A| A or not A')\n",
        "  for A in possible_values:\n",
        "    print(f'{A} |  {int(not A)}   |   {or_agent(A, int(not A), \"Boole\")}')"
      ],
      "execution_count": 12,
      "outputs": [
        {
          "output_type": "stream",
          "text": [
            "A | not A| A or not A\n",
            "0 |  1   |   1\n",
            "1 |  0   |   1\n"
          ],
          "name": "stdout"
        }
      ]
    },
    {
      "cell_type": "markdown",
      "metadata": {
        "id": "fyBF-wk58s2_"
      },
      "source": [
        "In questo esercizio si vuole sviluppare l'operazione not A -> B.<br>\n",
        "Per far ciò si eseguirà un ciclo for su due variabili A e B per i possibili valori che queste possono assumere (0 e 1).<br>\n",
        "Risultato di questo snippet sarà la stampa della tabella di verità contente i valori assunto dalla variabile A, e dalla sua negazione (not A), i valori assunti dalla variabile B ed il risultato dell'IMPLICAZIONE."
      ]
    },
    {
      "cell_type": "code",
      "metadata": {
        "colab": {
          "base_uri": "https://localhost:8080/"
        },
        "id": "m7OPslvG8tOu",
        "outputId": "ad81f203-d230-4738-a0cb-60b96f5e8080"
      },
      "source": [
        "possible_values = (0, 1)\n",
        "print(\"A | B | not A | not A -> B\")\n",
        "for A in possible_values:\n",
        "  for B in possible_values:\n",
        "    print(f'{A} | {B} |   {int(not A)}   |      {implication_agent(int(not A), B, \"Boole\")}')"
      ],
      "execution_count": 18,
      "outputs": [
        {
          "output_type": "stream",
          "text": [
            "A | B | not A | not A -> B\n",
            "0 | 0 |   1   |      0\n",
            "0 | 1 |   1   |      1\n",
            "1 | 0 |   0   |      1\n",
            "1 | 1 |   0   |      1\n"
          ],
          "name": "stdout"
        }
      ]
    }
  ]
}